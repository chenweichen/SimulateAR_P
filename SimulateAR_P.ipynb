{
 "cells": [
  {
   "cell_type": "code",
   "execution_count": 1,
   "metadata": {},
   "outputs": [],
   "source": [
    "import numpy as np\n",
    "import matplotlib.pyplot as plt"
   ]
  },
  {
   "cell_type": "markdown",
   "metadata": {},
   "source": [
    "http://www.briancjenkins.com/ar1-simulation/#plotBox  \n",
    "https://github.com/ndronen/misc/blob/master/python/ar1.py   \n",
    "https://www.zybuluo.com/hanxiaoyang/note/534296  \n",
    "http://mropengate.blogspot.com/2015/11/time-series-analysis-ar-ma-arma-arima.html  \n",
    "http://halweb.uc3m.es/esp/Personal/personas/amalonso/esp/TSAtema4.pdf  "
   ]
  },
  {
   "cell_type": "markdown",
   "metadata": {},
   "source": [
    "y_t = beta_0 + beta_1 * y_t-1 + e_t"
   ]
  },
  {
   "cell_type": "code",
   "execution_count": null,
   "metadata": {},
   "outputs": [],
   "source": [
    "from notebook.services.config import ConfigManager\n",
    "c = ConfigManager()\n",
    "c.update('notebook', {\"CodeCell\": {\"cm_config\": {\"autoCloseBrackets\": True}}})"
   ]
  },
  {
   "cell_type": "code",
   "execution_count": 49,
   "metadata": {},
   "outputs": [],
   "source": [
    "sims = np.zeros((100,2))"
   ]
  },
  {
   "cell_type": "code",
   "execution_count": 52,
   "metadata": {},
   "outputs": [
    {
     "ename": "IndexError",
     "evalue": "index 2 is out of bounds for axis 1 with size 2",
     "output_type": "error",
     "traceback": [
      "\u001b[1;31m---------------------------------------------------------------------------\u001b[0m",
      "\u001b[1;31mIndexError\u001b[0m                                Traceback (most recent call last)",
      "\u001b[1;32m<ipython-input-52-2699ab5083b9>\u001b[0m in \u001b[0;36m<module>\u001b[1;34m()\u001b[0m\n\u001b[1;32m----> 1\u001b[1;33m \u001b[0msims\u001b[0m\u001b[1;33m[\u001b[0m\u001b[1;33m:\u001b[0m\u001b[1;33m,\u001b[0m\u001b[1;36m2\u001b[0m\u001b[1;33m]\u001b[0m\u001b[1;33m\u001b[0m\u001b[0m\n\u001b[0m",
      "\u001b[1;31mIndexError\u001b[0m: index 2 is out of bounds for axis 1 with size 2"
     ]
    }
   ],
   "source": [
    "sims[:,2]"
   ]
  },
  {
   "cell_type": "code",
   "execution_count": 54,
   "metadata": {},
   "outputs": [
    {
     "name": "stdout",
     "output_type": "stream",
     "text": [
      "1\n"
     ]
    }
   ],
   "source": [
    "for i in range(1,2):\n",
    "    print(i)"
   ]
  },
  {
   "cell_type": "code",
   "execution_count": 46,
   "metadata": {},
   "outputs": [
    {
     "data": {
      "text/plain": [
       "array([16.74310819])"
      ]
     },
     "execution_count": 46,
     "metadata": {},
     "output_type": "execute_result"
    }
   ],
   "source": [
    "np.random.seed(123)\n",
    "mu = 20\n",
    "sigma = 3 \n",
    "size = (1)\n",
    "y_0 =np.random.normal(mu, sigma,size )\n",
    "y_0"
   ]
  },
  {
   "cell_type": "code",
   "execution_count": 47,
   "metadata": {},
   "outputs": [
    {
     "data": {
      "text/plain": [
       "array([-1.0856306 ,  0.99734545,  0.2829785 , -1.50629471, -0.57860025,\n",
       "        1.65143654, -2.42667924, -0.42891263,  1.26593626, -0.8667404 ,\n",
       "       -0.67888615, -0.09470897,  1.49138963, -0.638902  , -0.44398196,\n",
       "       -0.43435128,  2.20593008,  2.18678609,  1.0040539 ,  0.3861864 ,\n",
       "        0.73736858,  1.49073203, -0.93583387,  1.17582904, -1.25388067,\n",
       "       -0.6377515 ,  0.9071052 , -1.4286807 , -0.14006872, -0.8617549 ,\n",
       "       -0.25561937, -2.79858911, -1.7715331 , -0.69987723,  0.92746243,\n",
       "       -0.17363568,  0.00284592,  0.68822271, -0.87953634,  0.28362732,\n",
       "       -0.80536652, -1.72766949, -0.39089979,  0.57380586,  0.33858905,\n",
       "       -0.01183049,  2.39236527,  0.41291216,  0.97873601,  2.23814334,\n",
       "       -1.29408532, -1.03878821,  1.74371223, -0.79806274,  0.02968323,\n",
       "        1.06931597,  0.89070639,  1.75488618,  1.49564414,  1.06939267,\n",
       "       -0.77270871,  0.79486267,  0.31427199, -1.32626546,  1.41729905,\n",
       "        0.80723653,  0.04549008, -0.23309206, -1.19830114,  0.19952407,\n",
       "        0.46843912, -0.83115498,  1.16220405, -1.09720305, -2.12310035,\n",
       "        1.03972709, -0.40336604, -0.12602959, -0.83751672, -1.60596276,\n",
       "        1.25523737, -0.68886898,  1.66095249,  0.80730819, -0.31475815,\n",
       "       -1.0859024 , -0.73246199, -1.21252313,  2.08711336,  0.16444123,\n",
       "        1.15020554, -1.26735205,  0.18103513,  1.17786194, -0.33501076,\n",
       "        1.03111446, -1.08456791, -1.36347154,  0.37940061, -0.37917643])"
      ]
     },
     "execution_count": 47,
     "metadata": {},
     "output_type": "execute_result"
    }
   ],
   "source": [
    "np.random.seed(123)\n",
    "mue = 0\n",
    "sigmae =1\n",
    "sizee=(100)\n",
    "e_t = np.random.normal(mue, sigmae, sizee)\n",
    "e_t"
   ]
  },
  {
   "cell_type": "code",
   "execution_count": 43,
   "metadata": {},
   "outputs": [
    {
     "data": {
      "text/plain": [
       "array([ 8.96023431, 14.79256725, 12.79233979,  7.7823748 , 10.37991929,\n",
       "       16.6240223 ,  5.20529812, 10.79904464, 15.54462152,  9.57312687,\n",
       "       10.09911878, 11.73481489, 16.17589095, 10.21107441, 10.75685051,\n",
       "       10.78381643, 18.17660423, 18.12300105, 14.81135091, 13.08132192,\n",
       "       14.06463201, 16.17404968,  9.37966517, 15.29232133,  8.48913413,\n",
       "       10.21429579, 14.53989455,  7.99969404, 11.60780758,  9.58708629,\n",
       "       11.28426576,  4.1639505 ,  7.03970731, 10.04034374, 14.59689481,\n",
       "       11.51382009, 12.00796856, 13.92702359,  9.53729824, 12.79415651,\n",
       "        9.74497375,  7.16252542, 10.90548058, 13.60665641, 12.94804934,\n",
       "       11.96687462, 18.69862274, 13.15615405, 14.74046082, 18.26680135,\n",
       "        8.3765611 ,  9.09139301, 16.88239423,  9.76542434, 12.08311304,\n",
       "       14.99408471, 14.4939779 , 16.91368131, 16.18780358, 14.99429948,\n",
       "        9.8364156 , 14.22561547, 12.87996158,  8.28645671, 15.96843733,\n",
       "       14.2602623 , 12.12737223, 11.34734223,  8.64475679, 12.55866741,\n",
       "       13.31162953,  9.67276604, 15.25417134,  8.92783147,  6.05531902,\n",
       "       14.91123585, 10.87057509, 11.64711716,  9.65495318,  7.50330427,\n",
       "       15.51466465, 10.07116685, 16.65066697, 14.26046292, 11.11867719,\n",
       "        8.95947328,  9.94910644,  8.60493523, 17.84391741, 12.46043544,\n",
       "       15.22057552,  8.45141426, 12.50689836, 15.29801343, 11.06196987,\n",
       "       14.88712048,  8.96320985,  8.18227968, 13.06232171, 10.93830598])"
      ]
     },
     "execution_count": 43,
     "metadata": {},
     "output_type": "execute_result"
    }
   ],
   "source": [
    "phi = 0.6\n",
    "for t in range(0,101)\n",
    "y = phi * y + e[t]\n"
   ]
  },
  {
   "cell_type": "code",
   "execution_count": 44,
   "metadata": {},
   "outputs": [
    {
     "data": {
      "image/png": "[encoded data removed]",
      "text/plain": [
       "<matplotlib.figure.Figure at 0x2220f31f9e8>"
      ]
     },
     "metadata": {},
     "output_type": "display_data"
    }
   ],
   "source": [
    "plt.plot(y_t,y)\n",
    "plt.show()"
   ]
  },
  {
   "cell_type": "code",
   "execution_count": 45,
   "metadata": {},
   "outputs": [
    {
     "data": {
      "image/png": "[encoded data removed]",
      "text/plain": [
       "<matplotlib.figure.Figure at 0x2220f3b0e10>"
      ]
     },
     "metadata": {},
     "output_type": "display_data"
    }
   ],
   "source": [
    "plt.scatter(y_t,y)\n",
    "plt.show()"
   ]
  },
  {
   "cell_type": "code",
   "execution_count": 78,
   "metadata": {},
   "outputs": [],
   "source": [
    "mu, sigma, nPath, nPeriod = 15, 5, 100, 2\n",
    "\n",
    "y_0 = np.random.normal(mu,sigma,1) # a singular value"
   ]
  },
  {
   "cell_type": "code",
   "execution_count": 79,
   "metadata": {},
   "outputs": [],
   "source": [
    "sims = np.zeros((nPath,nPeriod)) # 100x2"
   ]
  },
  {
   "cell_type": "code",
   "execution_count": 80,
   "metadata": {},
   "outputs": [],
   "source": [
    "e_t = np.random.normal(0,1,(nPath,1))"
   ]
  },
  {
   "cell_type": "code",
   "execution_count": 71,
   "metadata": {},
   "outputs": [
    {
     "data": {
      "text/plain": [
       "(100,)"
      ]
     },
     "execution_count": 71,
     "metadata": {},
     "output_type": "execute_result"
    }
   ],
   "source": [
    "sims[:,0].shape"
   ]
  },
  {
   "cell_type": "code",
   "execution_count": 93,
   "metadata": {},
   "outputs": [],
   "source": [
    "phi = -0.857319\n",
    "sims[:,0] = e_t[:,0]\n",
    "sims[0,nPeriod-1] = y_0\n",
    "for t in range(1,nPath):\n",
    "    sims[t,nPeriod-1] = phi * sims[t-1,1] + sims[t,0]"
   ]
  },
  {
   "cell_type": "code",
   "execution_count": 94,
   "metadata": {},
   "outputs": [
    {
     "data": {
      "text/plain": [
       "<matplotlib.collections.PathCollection at 0x22210975748>"
      ]
     },
     "execution_count": 94,
     "metadata": {},
     "output_type": "execute_result"
    },
    {
     "data": {
      "image/png": "[encoded data removed]",
      "text/plain": [
       "<matplotlib.figure.Figure at 0x22210915cc0>"
      ]
     },
     "metadata": {},
     "output_type": "display_data"
    }
   ],
   "source": [
    "plt.scatter(np.arange(nPath),sims[:,1])"
   ]
  },
  {
   "cell_type": "code",
   "execution_count": 95,
   "metadata": {},
   "outputs": [
    {
     "data": {
      "text/plain": [
       "[<matplotlib.lines.Line2D at 0x222109c9e80>]"
      ]
     },
     "execution_count": 95,
     "metadata": {},
     "output_type": "execute_result"
    },
    {
     "data": {
      "image/png": "[encoded data removed]",
      "text/plain": [
       "<matplotlib.figure.Figure at 0x22210950940>"
      ]
     },
     "metadata": {},
     "output_type": "display_data"
    }
   ],
   "source": [
    "plt.plot(np.arange(nPath),sims[:,1])"
   ]
  },
  {
   "cell_type": "code",
   "execution_count": 3,
   "metadata": {},
   "outputs": [],
   "source": [
    "def simulateAR_1(nPath, nPeriod, initmu, initsigma, mu, sigma, phi_0,phi_1):\n",
    "    y_0 = np.random.normal(initmu, initsigma, size=(1))\n",
    "    sims = np.zeros((nPath, nPeriod))\n",
    "    e = np.random.normal(mu,sigma,size=(nPath,1))\n",
    "    sims[:,0] = e[:,0]\n",
    "    sims[0,1] = y_0 \n",
    "    for t in range(1,nPath):\n",
    "        sims[t,1] = phi_0 + phi_1 * sims[t-1,1] + sims[t,0]\n",
    "    \n",
    "    return sims\n",
    "    "
   ]
  },
  {
   "cell_type": "code",
   "execution_count": 4,
   "metadata": {},
   "outputs": [
    {
     "data": {
      "text/plain": [
       "array([[-0.33279532,  8.45676462],\n",
       "       [ 0.43295943, -4.19289082],\n",
       "       [-0.52139978,  1.7721115 ],\n",
       "       ...,\n",
       "       [ 1.24461005,  0.11643856],\n",
       "       [ 1.27125785,  1.20756596],\n",
       "       [-0.02318182, -0.6837204 ]])"
      ]
     },
     "execution_count": 4,
     "metadata": {},
     "output_type": "execute_result"
    }
   ],
   "source": [
    "sims = simulateAR_1(nPath=1050,nPeriod=2,initmu=5,initsigma=3,mu=0,sigma=1,phi_0=0,phi_1=-0.547)\n",
    "sims"
   ]
  },
  {
   "cell_type": "code",
   "execution_count": 5,
   "metadata": {},
   "outputs": [
    {
     "data": {
      "text/plain": [
       "[<matplotlib.lines.Line2D at 0x24d5d9c9710>]"
      ]
     },
     "execution_count": 5,
     "metadata": {},
     "output_type": "execute_result"
    },
    {
     "data": {
      "image/png": "[encoded data removed]",
      "text/plain": [
       "<matplotlib.figure.Figure at 0x24d5d8d8160>"
      ]
     },
     "metadata": {},
     "output_type": "display_data"
    }
   ],
   "source": [
    "plt.plot(np.arange(1050),sims[:,1])"
   ]
  },
  {
   "cell_type": "code",
   "execution_count": 6,
   "metadata": {},
   "outputs": [
    {
     "data": {
      "text/plain": [
       "<matplotlib.collections.PathCollection at 0x24d5dc90160>"
      ]
     },
     "execution_count": 6,
     "metadata": {},
     "output_type": "execute_result"
    },
    {
     "data": {
      "image/png": "[encoded data removed]",
      "text/plain": [
       "<matplotlib.figure.Figure at 0x24d5d8d84e0>"
      ]
     },
     "metadata": {},
     "output_type": "display_data"
    }
   ],
   "source": [
    "plt.scatter(np.arange(1050),sims[:,1])"
   ]
  },
  {
   "cell_type": "code",
   "execution_count": 7,
   "metadata": {},
   "outputs": [],
   "source": [
    "def simulateAR_2(nPath, nPeriod, initmu, initsigma, mu, sigma, phi_0,phi_1,phi_2):\n",
    "    y_0 = np.random.normal(initmu, initsigma, size=(2,1))\n",
    "    sims = np.zeros((nPath, nPeriod))\n",
    "    e = np.random.normal(mu,sigma,size=(nPath,1))\n",
    "    sims[:,0] = e[:,0]\n",
    "    sims[0:2,1] = y_0[0:2,0] \n",
    "    for t in range(2,nPath):\n",
    "        sims[t,1] = phi_0 + phi_1 * sims[t-1,1] + phi_2 * sims[t-2,1] + sims[t,0]\n",
    "    \n",
    "    return sims"
   ]
  },
  {
   "cell_type": "code",
   "execution_count": 8,
   "metadata": {},
   "outputs": [
    {
     "data": {
      "text/plain": [
       "array([[-3.06392227e-01,  4.71972108e+00],\n",
       "       [-1.19484121e+00,  3.84345603e+00],\n",
       "       [-6.97280968e-01, -5.00558502e-02],\n",
       "       [ 2.85757731e-01,  1.44880571e+00],\n",
       "       [-1.12730264e+00, -1.43208053e+00],\n",
       "       [ 3.77258256e-01,  1.09831608e+00],\n",
       "       [ 8.16229308e-01,  1.66941933e-01],\n",
       "       [ 2.07973624e+00,  2.37584268e+00],\n",
       "       [-4.01432413e-01, -8.26518369e-01],\n",
       "       [-4.55745299e-01,  4.22311179e-01],\n",
       "       [ 1.35867395e+00,  1.02625620e+00],\n",
       "       [-1.16994964e+00, -1.24850753e+00],\n",
       "       [-4.68157717e-02,  5.10762595e-01],\n",
       "       [ 1.28339363e+00,  8.06688852e-01],\n",
       "       [-1.44833296e-01, -1.52942288e-01],\n",
       "       [-2.18079439e-01,  5.45156739e-02],\n",
       "       [-1.84978354e+00, -1.90656936e+00],\n",
       "       [-1.18665489e+00, -7.88986321e-01],\n",
       "       [-2.22249542e-01, -6.36423086e-01],\n",
       "       [ 1.54831010e+00,  1.43889883e+00],\n",
       "       [ 7.76250100e-01,  2.97543409e-01],\n",
       "       [ 1.16315572e+00,  1.53531669e+00],\n",
       "       [-9.96810575e-01, -1.21461089e+00],\n",
       "       [-1.06859161e-01,  5.96658023e-01],\n",
       "       [ 2.43249888e-01, -2.40464983e-01],\n",
       "       [ 1.95840554e-01,  4.22930958e-01],\n",
       "       [-8.06763037e-01, -9.63488724e-01],\n",
       "       [-7.96371133e-01, -4.76794101e-01],\n",
       "       [ 2.04747816e+00,  1.85379037e+00],\n",
       "       [-1.19078661e+00, -1.70458292e+00],\n",
       "       [-5.31370500e-01,  3.65683194e-01],\n",
       "       [-1.13439487e-02, -5.95855462e-01],\n",
       "       [ 4.72644494e-01,  7.01520544e-01],\n",
       "       [-2.31238800e-01, -5.50299548e-01],\n",
       "       [-8.49940515e-01, -5.29424442e-01],\n",
       "       [ 4.32615512e-01,  3.73410536e-01],\n",
       "       [ 3.89244919e-01,  1.55735479e-01],\n",
       "       [-1.52531334e+00, -1.44443728e+00],\n",
       "       [-5.20234078e-01, -1.84625978e-01],\n",
       "       [ 4.91024307e-01,  9.46183189e-02],\n",
       "       [ 6.97574226e-01,  6.23262769e-01],\n",
       "       [ 4.91181105e-01,  3.94914047e-01],\n",
       "       [ 3.00844975e-01,  4.08840996e-01],\n",
       "       [-9.66652954e-01, -9.29946939e-01],\n",
       "       [ 1.39633166e+00,  1.70497334e+00],\n",
       "       [-1.25895497e-01, -7.45874247e-01],\n",
       "       [-6.58665356e-01,  2.00149614e-03],\n",
       "       [ 7.01127757e-01,  4.76965184e-01],\n",
       "       [ 5.28127514e-01,  4.33334926e-01],\n",
       "       [-4.18070988e-01, -3.61648418e-01],\n",
       "       [ 6.78120505e-01,  8.80450667e-01],\n",
       "       [ 5.59659373e-01,  2.75074714e-01],\n",
       "       [-3.80295050e-01, -1.71174793e-01],\n",
       "       [ 2.31158284e-01,  3.47915656e-01],\n",
       "       [-8.12511455e-01, -9.33447024e-01],\n",
       "       [-1.03485894e+00, -7.43794838e-01],\n",
       "       [-1.86845119e+00, -1.99972633e+00],\n",
       "       [-1.05194339e+00, -8.75136574e-01],\n",
       "       [ 1.19310312e+00,  7.68212535e-01],\n",
       "       [ 5.85051508e-03, -4.10332964e-01],\n",
       "       [-8.13095049e-01, -5.00564696e-01],\n",
       "       [-8.57431708e-01, -8.80418658e-01],\n",
       "       [-8.37039536e-01, -8.11125213e-01],\n",
       "       [-3.14091679e-01, -4.15992234e-01],\n",
       "       [ 2.04435839e+00,  1.88421927e+00],\n",
       "       [ 7.17219037e-04, -5.00924306e-01],\n",
       "       [-2.03906318e+00, -1.37361254e+00],\n",
       "       [ 1.33229550e+00,  1.45674072e+00],\n",
       "       [-2.80469159e-01, -9.83901064e-01],\n",
       "       [-1.78539861e+00, -1.15159618e+00],\n",
       "       [-8.23569251e-01, -8.88420335e-01],\n",
       "       [-2.58232266e-02, -1.93618013e-01],\n",
       "       [ 6.10001680e-01,  3.82199182e-01],\n",
       "       [-1.94485588e-01, -3.29010828e-01],\n",
       "       [ 1.66114608e-01,  3.46576528e-01],\n",
       "       [ 4.26408617e-01,  2.58390062e-01],\n",
       "       [-9.22782289e-02, -3.99832830e-02],\n",
       "       [ 1.28332998e+00,  1.36884366e+00],\n",
       "       [ 8.21638844e-01,  5.35875128e-01],\n",
       "       [-5.31246230e-01, -2.27768158e-01],\n",
       "       [-5.26011952e-01, -3.19695782e-01],\n",
       "       [ 5.32144437e-02,  4.88231526e-02],\n",
       "       [ 3.27683675e-01,  2.22010310e-01],\n",
       "       [-1.09459275e+00, -1.12434786e+00],\n",
       "       [-1.15158321e+00, -8.60110546e-01],\n",
       "       [-1.46505546e+00, -1.63033771e+00],\n",
       "       [ 1.13471058e+00,  1.20274496e+00],\n",
       "       [-8.94742383e-01, -1.62439269e+00],\n",
       "       [-1.10510412e-01,  5.75191615e-01],\n",
       "       [ 2.54704048e-01, -3.47652081e-01],\n",
       "       [-4.72812543e-01, -2.30724643e-01],\n",
       "       [ 1.27168348e+00,  1.21353278e+00],\n",
       "       [-3.97892789e-01, -7.09816739e-01],\n",
       "       [ 1.22712434e+00,  1.73314752e+00],\n",
       "       [ 4.66917498e-01, -9.26570289e-02],\n",
       "       [ 1.25881342e+00,  1.79728908e+00],\n",
       "       [ 8.60469359e-01,  4.73214433e-01],\n",
       "       [-3.25804269e-01,  1.18739569e-01],\n",
       "       [ 1.26570628e+00,  1.38392270e+00],\n",
       "       [ 1.68447457e+00,  1.44331190e+00]])"
      ]
     },
     "execution_count": 8,
     "metadata": {},
     "output_type": "execute_result"
    }
   ],
   "source": [
    "sims = simulateAR_2(nPath=100,nPeriod=2,initmu=5,initsigma=3,mu=0,sigma=1,phi_0=0,phi_1=-0.2, phi_2=0.3)\n",
    "sims"
   ]
  },
  {
   "cell_type": "code",
   "execution_count": 9,
   "metadata": {},
   "outputs": [
    {
     "data": {
      "text/plain": [
       "[<matplotlib.lines.Line2D at 0x24d5dd015c0>]"
      ]
     },
     "execution_count": 9,
     "metadata": {},
     "output_type": "execute_result"
    },
    {
     "data": {
      "image/png": "[encoded data removed]",
      "text/plain": [
       "<matplotlib.figure.Figure at 0x24d5dc5ec88>"
      ]
     },
     "metadata": {},
     "output_type": "display_data"
    }
   ],
   "source": [
    "plt.plot(np.arange(100),sims[:,1])"
   ]
  },
  {
   "cell_type": "code",
   "execution_count": 10,
   "metadata": {},
   "outputs": [
    {
     "data": {
      "text/plain": [
       "<matplotlib.collections.PathCollection at 0x24d5dd60c18>"
      ]
     },
     "execution_count": 10,
     "metadata": {},
     "output_type": "execute_result"
    },
    {
     "data": {
      "image/png": "[encoded data removed]",
      "text/plain": [
       "<matplotlib.figure.Figure at 0x24d5dce94a8>"
      ]
     },
     "metadata": {},
     "output_type": "display_data"
    }
   ],
   "source": [
    "plt.scatter(np.arange(100),sims[:,1])"
   ]
  },
  {
   "cell_type": "code",
   "execution_count": null,
   "metadata": {},
   "outputs": [],
   "source": [
    "def simulateAR_p(nPath, nPeriod, initmu, initsigma, mu, sigma, phi_0,phi_1,phi_2):\n",
    "    y_0 = np.random.normal(initmu, initsigma, size=(nPeriod,1))\n",
    "    sims = np.zeros((nPath, 2))\n",
    "    e = np.random.normal(mu,sigma,size=(nPath,1))\n",
    "    sims[:,0] = e[:,0]\n",
    "    sims[0:nPeriod,1] = y_0[0:nPeriod,0] \n",
    "    for t in range(nPeriod,nPath):\n",
    "        \n",
    "        #sims[t,1] = phi_0 + phi_1 * sims[t-1,1] + phi_2 * sims[t-2,1] + phi_3 * sims[t-3,1]+sims[t,0]\n",
    "    \n",
    "    return sims"
   ]
  },
  {
   "cell_type": "code",
   "execution_count": 31,
   "metadata": {},
   "outputs": [],
   "source": [
    "# AR(3)\n",
    "np.random.seed(123)\n",
    "y_0 = np.random.normal(0, 1, size=(3,1))\n",
    "sims = np.zeros((12, 2))\n",
    "e = np.random.normal(0,1,size=(12,1))\n",
    "sims[:,0] = e[:,0]\n",
    "sims[0:3,1] = y_0[0:3,0] "
   ]
  },
  {
   "cell_type": "code",
   "execution_count": 32,
   "metadata": {},
   "outputs": [
    {
     "data": {
      "text/plain": [
       "(array([[-1.50629471, -1.0856306 ],\n",
       "        [-0.57860025,  0.99734545],\n",
       "        [ 1.65143654,  0.2829785 ],\n",
       "        [-2.42667924,  0.        ],\n",
       "        [-0.42891263,  0.        ],\n",
       "        [ 1.26593626,  0.        ],\n",
       "        [-0.8667404 ,  0.        ],\n",
       "        [-0.67888615,  0.        ],\n",
       "        [-0.09470897,  0.        ],\n",
       "        [ 1.49138963,  0.        ],\n",
       "        [-0.638902  ,  0.        ],\n",
       "        [-0.44398196,  0.        ]]), (12,), 12)"
      ]
     },
     "execution_count": 32,
     "metadata": {},
     "output_type": "execute_result"
    }
   ],
   "source": [
    "sims[:],sims[:,1].shape,len(sims)"
   ]
  },
  {
   "cell_type": "code",
   "execution_count": 36,
   "metadata": {},
   "outputs": [],
   "source": [
    "def simulateAR_3(nPath, nPeriod, initmu, initsigma, mu, sigma, phi_0, phi_1, phi_2, phi_3):\n",
    "    y_0 = np.random.normal(initmu, initsigma, size=(nPeriod,1))\n",
    "    sims = np.zeros((nPath, 2))\n",
    "    e = np.random.normal(mu,sigma,size=(nPath,1))\n",
    "    phi_m = np.array([phi_0, phi_3, phi_2, phi_1])  # 順序變動 要能擴充參數??  Here is 0-3-2-1\n",
    "    sims[:,0] = e[:,0]\n",
    "    sims[0:nPeriod,1] = y_0[0:nPeriod,0] \n",
    "    for t in range(nPeriod,nPath):\n",
    "        sims[t,1] = phi_m[0] + np.sum(phi_m[1:nPeriod+1] * sims[t-nPeriod:t,1] ) + sims[t,0]\n",
    "        #sims[t,1] = phi_0 + phi_1 * sims[t-1,1] + phi_2 * sims[t-2,1] + phi_3 * sims[t-3,1]+sims[t,0]\n",
    "    \n",
    "    return sims"
   ]
  },
  {
   "cell_type": "code",
   "execution_count": 33,
   "metadata": {},
   "outputs": [
    {
     "data": {
      "text/plain": [
       "array([ 0,  1,  1, 10])"
      ]
     },
     "execution_count": 33,
     "metadata": {},
     "output_type": "execute_result"
    }
   ],
   "source": [
    "phi_0,phi_1,phi_2,phi_3 = 0, 10, 1,1\n",
    "phi_m = np.array([phi_0,phi_3,phi_2,phi_1]) # 順序變動 要能擴充參數??\n",
    "phi_m\n",
    "# from 1 to nPeriod/end"
   ]
  },
  {
   "cell_type": "code",
   "execution_count": 34,
   "metadata": {},
   "outputs": [],
   "source": [
    "nPeriod = 3\n",
    "nPath = len(sims) #12\n",
    "for t in range(nPeriod,nPath):\n",
    "    sims[t,1]=np.sum(phi_m[1:nPeriod+1] *sims[t-nPeriod:t,1] ) + phi_m[0]+ sims[t,0]"
   ]
  },
  {
   "cell_type": "code",
   "execution_count": 35,
   "metadata": {},
   "outputs": [
    {
     "data": {
      "text/plain": [
       "array([[-1.50629471e+00, -1.08563060e+00],\n",
       "       [-5.78600252e-01,  9.97345447e-01],\n",
       "       [ 1.65143654e+00,  2.82978498e-01],\n",
       "       [-2.42667924e+00,  3.14820580e-01],\n",
       "       [-4.28912629e-01,  3.99961712e+00],\n",
       "       [ 1.26593626e+00,  4.18599065e+01],\n",
       "       [-8.66740402e-01,  4.22046763e+02],\n",
       "       [-6.78886152e-01,  4.26564826e+03],\n",
       "       [-9.47089689e-02,  4.31202946e+04],\n",
       "       [ 1.49138963e+00,  4.35892132e+05],\n",
       "       [-6.38901997e-01,  4.40630663e+06],\n",
       "       [-4.43981960e-01,  4.45420783e+07]])"
      ]
     },
     "execution_count": 35,
     "metadata": {},
     "output_type": "execute_result"
    }
   ],
   "source": [
    "sims"
   ]
  },
  {
   "cell_type": "code",
   "execution_count": 24,
   "metadata": {},
   "outputs": [
    {
     "data": {
      "text/plain": [
       "-9.57598256"
      ]
     },
     "execution_count": 24,
     "metadata": {},
     "output_type": "execute_result"
    }
   ],
   "source": [
    "10*(-1.08563060)+1*(0.99734544)+1*(0.282978)"
   ]
  },
  {
   "cell_type": "code",
   "execution_count": 21,
   "metadata": {},
   "outputs": [
    {
     "data": {
      "text/plain": [
       "array([10,  1,  1])"
      ]
     },
     "execution_count": 21,
     "metadata": {},
     "output_type": "execute_result"
    }
   ],
   "source": [
    "phi_m[1:nPeriod+1]"
   ]
  },
  {
   "cell_type": "code",
   "execution_count": 34,
   "metadata": {},
   "outputs": [
    {
     "data": {
      "text/plain": [
       "((3,), (3,))"
      ]
     },
     "execution_count": 34,
     "metadata": {},
     "output_type": "execute_result"
    }
   ],
   "source": [
    "a = np.array([1,2,3])\n",
    "b = np.array([1,10,5])\n",
    "a.shape,b.shape"
   ]
  },
  {
   "cell_type": "code",
   "execution_count": 35,
   "metadata": {},
   "outputs": [
    {
     "data": {
      "text/plain": [
       "array([ 1, 20, 15])"
      ]
     },
     "execution_count": 35,
     "metadata": {},
     "output_type": "execute_result"
    }
   ],
   "source": [
    "a*b"
   ]
  },
  {
   "cell_type": "code",
   "execution_count": 42,
   "metadata": {},
   "outputs": [],
   "source": [
    "sims = simulateAR_3(nPath=950, nPeriod=2, initmu=5, initsigma=1, mu=0, sigma=1, phi_0=0, phi_1=-0.25, phi_2=0.3, phi_3=-0.15)"
   ]
  },
  {
   "cell_type": "code",
   "execution_count": 43,
   "metadata": {},
   "outputs": [
    {
     "data": {
      "text/plain": [
       "array([[-0.27439657,  3.90497354],\n",
       "       [-1.04899168,  5.07922701],\n",
       "       [-0.07512059,  0.86290148],\n",
       "       ...,\n",
       "       [-1.32247311, -1.12615101],\n",
       "       [ 2.43941406,  2.13825699],\n",
       "       [-1.66808131, -0.85768157]])"
      ]
     },
     "execution_count": 43,
     "metadata": {},
     "output_type": "execute_result"
    }
   ],
   "source": [
    "sims"
   ]
  },
  {
   "cell_type": "code",
   "execution_count": 44,
   "metadata": {},
   "outputs": [
    {
     "data": {
      "text/plain": [
       "[<matplotlib.lines.Line2D at 0x257694a3278>]"
      ]
     },
     "execution_count": 44,
     "metadata": {},
     "output_type": "execute_result"
    },
    {
     "data": {
      "image/png": "[encoded data removed]",
      "text/plain": [
       "<matplotlib.figure.Figure at 0x25768f6a470>"
      ]
     },
     "metadata": {},
     "output_type": "display_data"
    }
   ],
   "source": [
    "plt.plot(np.arange(950),sims[:,1])"
   ]
  },
  {
   "cell_type": "code",
   "execution_count": 45,
   "metadata": {},
   "outputs": [
    {
     "data": {
      "text/plain": [
       "<matplotlib.collections.PathCollection at 0x257694f2fd0>"
      ]
     },
     "execution_count": 45,
     "metadata": {},
     "output_type": "execute_result"
    },
    {
     "data": {
      "image/png": "[encoded data removed]",
      "text/plain": [
       "<matplotlib.figure.Figure at 0x257692d2908>"
      ]
     },
     "metadata": {},
     "output_type": "display_data"
    }
   ],
   "source": [
    "plt.scatter(np.arange(950),sims[:,1])"
   ]
  },
  {
   "cell_type": "code",
   "execution_count": 47,
   "metadata": {},
   "outputs": [
    {
     "data": {
      "text/plain": [
       "array([0, 1, 2, 3])"
      ]
     },
     "execution_count": 47,
     "metadata": {},
     "output_type": "execute_result"
    }
   ],
   "source": [
    "a = np.array([0,1,2,3])\n",
    "a"
   ]
  },
  {
   "cell_type": "code",
   "execution_count": 48,
   "metadata": {},
   "outputs": [
    {
     "data": {
      "text/plain": [
       "array([3, 2, 1, 0])"
      ]
     },
     "execution_count": 48,
     "metadata": {},
     "output_type": "execute_result"
    }
   ],
   "source": [
    "a[::-1]"
   ]
  },
  {
   "cell_type": "code",
   "execution_count": 52,
   "metadata": {},
   "outputs": [
    {
     "data": {
      "text/plain": [
       "array([3, 2, 1, 0])"
      ]
     },
     "execution_count": 52,
     "metadata": {},
     "output_type": "execute_result"
    }
   ],
   "source": [
    "np.flip(a,0)"
   ]
  },
  {
   "cell_type": "code",
   "execution_count": 44,
   "metadata": {},
   "outputs": [],
   "source": [
    "def simulateAR_3(nPath, nPeriod, initmu, initsigma, mu, sigma, phi_0, phi_1, phi_2, phi_3):\n",
    "    y_0 = np.random.normal(initmu, initsigma, size=(nPeriod,1))\n",
    "    sims = np.zeros((nPath, 2))\n",
    "    e = np.random.normal(mu,sigma,size=(nPath,1))\n",
    "    phi_m = np.array([phi_0, phi_3, phi_2, phi_1])  # 順序變動 要能擴充參數??  Here is 0-3-2-1\n",
    "    sims[:,0] = e[:,0]\n",
    "    sims[0:nPeriod,1] = y_0[0:nPeriod,0] \n",
    "    for t in range(nPeriod,nPath):\n",
    "        sims[t,1] = phi_m[0] + np.sum(phi_m[1:nPeriod+1] * sims[t-nPeriod:t,1] ) + sims[t,0]\n",
    "        #sims[t,1] = phi_0 + phi_1 * sims[t-1,1] + phi_2 * sims[t-2,1] + phi_3 * sims[t-3,1]+sims[t,0]\n",
    "    \n",
    "    return sims"
   ]
  },
  {
   "cell_type": "code",
   "execution_count": 45,
   "metadata": {},
   "outputs": [],
   "source": [
    "sims = simulateAR_3(nPath=950, nPeriod=3, initmu=5, initsigma=1, mu=0, sigma=1, phi_0=0, phi_1=-0.25, phi_2=0.3, phi_3=-0.15)"
   ]
  },
  {
   "cell_type": "code",
   "execution_count": 46,
   "metadata": {},
   "outputs": [
    {
     "data": {
      "text/plain": [
       "array([[-0.66732092,  4.65737592],\n",
       "       [-1.12513426,  6.71094769],\n",
       "       [ 0.85403169,  4.45061015],\n",
       "       ...,\n",
       "       [ 0.65849349,  0.25225477],\n",
       "       [ 2.7586977 ,  2.86807373],\n",
       "       [-1.36551238, -2.04697014]])"
      ]
     },
     "execution_count": 46,
     "metadata": {},
     "output_type": "execute_result"
    }
   ],
   "source": [
    "sims"
   ]
  },
  {
   "cell_type": "code",
   "execution_count": 47,
   "metadata": {},
   "outputs": [
    {
     "data": {
      "text/plain": [
       "[<matplotlib.lines.Line2D at 0x2be629872e8>]"
      ]
     },
     "execution_count": 47,
     "metadata": {},
     "output_type": "execute_result"
    },
    {
     "data": {
      "image/png": "[encoded data removed]",
      "text/plain": [
       "<matplotlib.figure.Figure at 0x2be629581d0>"
      ]
     },
     "metadata": {},
     "output_type": "display_data"
    }
   ],
   "source": [
    "plt.plot(np.arange(950),sims[:,1])"
   ]
  },
  {
   "cell_type": "code",
   "execution_count": 48,
   "metadata": {},
   "outputs": [
    {
     "data": {
      "text/plain": [
       "<matplotlib.collections.PathCollection at 0x2be639aa9e8>"
      ]
     },
     "execution_count": 48,
     "metadata": {},
     "output_type": "execute_result"
    },
    {
     "data": {
      "image/png": "[encoded data removed]",
      "text/plain": [
       "<matplotlib.figure.Figure at 0x2be62916438>"
      ]
     },
     "metadata": {},
     "output_type": "display_data"
    }
   ],
   "source": [
    "plt.scatter(np.arange(950),sims[:,1])"
   ]
  },
  {
   "cell_type": "code",
   "execution_count": null,
   "metadata": {},
   "outputs": [],
   "source": []
  },
  {
   "cell_type": "code",
   "execution_count": 17,
   "metadata": {},
   "outputs": [],
   "source": [
    "def PP(*phi):\n",
    "    nid = len(phi)\n",
    "    s = phi[0]+phi[nid-1]+phi[nid-2]\n",
    "    return nid, s"
   ]
  },
  {
   "cell_type": "code",
   "execution_count": 18,
   "metadata": {},
   "outputs": [
    {
     "data": {
      "text/plain": [
       "(5, 15)"
      ]
     },
     "execution_count": 18,
     "metadata": {},
     "output_type": "execute_result"
    }
   ],
   "source": [
    "PP(1,2,3,5,9)"
   ]
  },
  {
   "cell_type": "code",
   "execution_count": 19,
   "metadata": {},
   "outputs": [],
   "source": [
    "a=[2,4,6,8,10]"
   ]
  },
  {
   "cell_type": "code",
   "execution_count": 20,
   "metadata": {},
   "outputs": [
    {
     "data": {
      "text/plain": [
       "(5, 20)"
      ]
     },
     "execution_count": 20,
     "metadata": {},
     "output_type": "execute_result"
    }
   ],
   "source": [
    "PP(*a)"
   ]
  },
  {
   "cell_type": "code",
   "execution_count": 21,
   "metadata": {},
   "outputs": [
    {
     "data": {
      "text/plain": [
       "(1, [2, 4, 6, 8, 10, 2, 4, 6, 8, 10, 2, 4, 6, 8, 10])"
      ]
     },
     "execution_count": 21,
     "metadata": {},
     "output_type": "execute_result"
    }
   ],
   "source": [
    "PP(a)"
   ]
  },
  {
   "cell_type": "code",
   "execution_count": 72,
   "metadata": {},
   "outputs": [],
   "source": [
    "def m(*phi):\n",
    "    p = np.array(phi)\n",
    "    return p"
   ]
  },
  {
   "cell_type": "code",
   "execution_count": 60,
   "metadata": {},
   "outputs": [
    {
     "data": {
      "text/plain": [
       "(3,)"
      ]
     },
     "execution_count": 60,
     "metadata": {},
     "output_type": "execute_result"
    }
   ],
   "source": [
    "np.asarray([1,2,3]).shape"
   ]
  },
  {
   "cell_type": "code",
   "execution_count": 77,
   "metadata": {},
   "outputs": [],
   "source": [
    "E = m(phi)"
   ]
  },
  {
   "cell_type": "code",
   "execution_count": 84,
   "metadata": {},
   "outputs": [
    {
     "data": {
      "text/plain": [
       "((1, 4), 2)"
      ]
     },
     "execution_count": 84,
     "metadata": {},
     "output_type": "execute_result"
    }
   ],
   "source": [
    "E.shape,E.ndim"
   ]
  },
  {
   "cell_type": "code",
   "execution_count": 65,
   "metadata": {},
   "outputs": [],
   "source": [
    "r,c = np.array([[0,1,3],[2,4,6]]).shape\n",
    "r,c =s.shape"
   ]
  },
  {
   "cell_type": "code",
   "execution_count": 66,
   "metadata": {},
   "outputs": [
    {
     "data": {
      "text/plain": [
       "(1, 3, array([[0, 1, 3]]))"
      ]
     },
     "execution_count": 66,
     "metadata": {},
     "output_type": "execute_result"
    }
   ],
   "source": [
    "r,c,s"
   ]
  },
  {
   "cell_type": "code",
   "execution_count": 2,
   "metadata": {},
   "outputs": [],
   "source": [
    "phi=[0,1,2,3]"
   ]
  },
  {
   "cell_type": "code",
   "execution_count": 85,
   "metadata": {},
   "outputs": [],
   "source": [
    "S = np.array(phi)"
   ]
  },
  {
   "cell_type": "code",
   "execution_count": 86,
   "metadata": {},
   "outputs": [
    {
     "data": {
      "text/plain": [
       "((4,), 1)"
      ]
     },
     "execution_count": 86,
     "metadata": {},
     "output_type": "execute_result"
    }
   ],
   "source": [
    "S.shape,S.ndim"
   ]
  },
  {
   "cell_type": "code",
   "execution_count": 7,
   "metadata": {},
   "outputs": [],
   "source": [
    "def m2(*phi):\n",
    "    return np.array(*phi)"
   ]
  },
  {
   "cell_type": "code",
   "execution_count": 62,
   "metadata": {},
   "outputs": [],
   "source": [
    "L=[100,0.5]"
   ]
  },
  {
   "cell_type": "code",
   "execution_count": 9,
   "metadata": {},
   "outputs": [],
   "source": [
    "Y = m2(phi)"
   ]
  },
  {
   "cell_type": "code",
   "execution_count": 14,
   "metadata": {},
   "outputs": [
    {
     "data": {
      "text/plain": [
       "array([0, 1, 2, 3])"
      ]
     },
     "execution_count": 14,
     "metadata": {},
     "output_type": "execute_result"
    }
   ],
   "source": [
    "Y"
   ]
  },
  {
   "cell_type": "code",
   "execution_count": 20,
   "metadata": {},
   "outputs": [],
   "source": [
    "def m22(phi):\n",
    "    return np.array(phi)"
   ]
  },
  {
   "cell_type": "code",
   "execution_count": 63,
   "metadata": {},
   "outputs": [],
   "source": [
    "LL=m22(L)"
   ]
  },
  {
   "cell_type": "code",
   "execution_count": 64,
   "metadata": {},
   "outputs": [
    {
     "data": {
      "text/plain": [
       "((2,), array([100. ,   0.5]))"
      ]
     },
     "execution_count": 64,
     "metadata": {},
     "output_type": "execute_result"
    }
   ],
   "source": [
    "LL.shape,LL"
   ]
  },
  {
   "cell_type": "code",
   "execution_count": 65,
   "metadata": {},
   "outputs": [
    {
     "data": {
      "text/plain": [
       "array([0.5])"
      ]
     },
     "execution_count": 65,
     "metadata": {},
     "output_type": "execute_result"
    }
   ],
   "source": [
    "LLL = np.flip(LL[1:],0)\n",
    "LLL"
   ]
  },
  {
   "cell_type": "code",
   "execution_count": 41,
   "metadata": {},
   "outputs": [],
   "source": [
    "def simulateAR_p(nPath, nPeriod, initmu, initsigma, mu, sigma, phi):\n",
    "    # nPath:      表示 nuber of observations\n",
    "    # nPeriod:    表示遞延多少期\n",
    "    # initmu:     表示起始值所來自母體分配的母體均數\n",
    "    # initsigma:  表示起始值所來自母體分配的母體標準差\n",
    "    # mu:          error term 所來自母體分配之均數\n",
    "    # sigma:       error term 所來自母體分配之標準差\n",
    "    # phi: Need to be a List\n",
    "    y_0 = np.random.normal(initmu, initsigma, size=(nPeriod,1))\n",
    "    sims = np.zeros((nPath, 2))\n",
    "    e = np.random.normal(mu,sigma,size=(nPath,1))\n",
    "    phiM = np.array(phi)\n",
    "    # r,c = phiM.shape\n",
    "    # phi_m = np.array([phi[0], phi[1], phi_2, phi_1])  # 順序變動 要能擴充參數??  Here is 0-3-2-1\n",
    "    sims[:,0] = e[:,0]\n",
    "    sims[0:nPeriod,1] = y_0[0:nPeriod,0] \n",
    "    for t in range(nPeriod,nPath):\n",
    "        sims[t,1] = phiM[0] + np.sum(np.flip(phiM[1:],0) * sims[t-nPeriod:t,1] ) + sims[t,0]\n",
    "        #sims[t,1] = phi_0 + phi_1 * sims[t-1,1] + phi_2 * sims[t-2,1] + phi_3 * sims[t-3,1]+sims[t,0]\n",
    "    \n",
    "    return sims"
   ]
  },
  {
   "cell_type": "code",
   "execution_count": 79,
   "metadata": {},
   "outputs": [],
   "source": [
    "phiM = [100,-0.5,0.15,0.25]\n",
    "simsP = simulateAR_p(nPath=15, nPeriod=3, initmu=5, initsigma=1, mu=0, sigma=1, phi = phiM)"
   ]
  },
  {
   "cell_type": "code",
   "execution_count": 80,
   "metadata": {},
   "outputs": [
    {
     "data": {
      "text/plain": [
       "array([[ 1.27356552e+00,  4.60516064e+00],\n",
       "       [-1.32156058e+00,  6.29788837e+00],\n",
       "       [ 3.81978881e-02,  6.01289238e+00],\n",
       "       [ 7.02910869e-02,  9.91598183e+01],\n",
       "       [ 9.61203181e-01,  5.38577000e+01],\n",
       "       [-1.26403317e-01,  8.93219425e+01],\n",
       "       [ 4.99330056e-01,  8.87069684e+01],\n",
       "       [ 9.90754471e-01,  8.34999867e+01],\n",
       "       [-1.67071897e-01,  9.37194657e+01],\n",
       "       [-1.09649432e-01,  8.77323578e+01],\n",
       "       [ 5.14671267e-01,  9.15814089e+01],\n",
       "       [ 9.61281866e-01,  9.17602975e+01],\n",
       "       [ 8.78427292e-01,  9.06685793e+01],\n",
       "       [ 2.32669763e+00,  9.36518048e+01],\n",
       "       [-1.34251177e+00,  8.83719471e+01]])"
      ]
     },
     "execution_count": 80,
     "metadata": {},
     "output_type": "execute_result"
    }
   ],
   "source": [
    "simsP"
   ]
  },
  {
   "cell_type": "code",
   "execution_count": 81,
   "metadata": {},
   "outputs": [
    {
     "data": {
      "text/plain": [
       "[<matplotlib.lines.Line2D at 0x2be63f0b940>]"
      ]
     },
     "execution_count": 81,
     "metadata": {},
     "output_type": "execute_result"
    },
    {
     "data": {
      "image/png": "[encoded data removed]",
      "text/plain": [
       "<matplotlib.figure.Figure at 0x2be6295b780>"
      ]
     },
     "metadata": {},
     "output_type": "display_data"
    }
   ],
   "source": [
    "plt.plot(np.arange(15),simsP[:,1])"
   ]
  },
  {
   "cell_type": "code",
   "execution_count": 82,
   "metadata": {},
   "outputs": [
    {
     "data": {
      "text/plain": [
       "<matplotlib.collections.PathCollection at 0x2be63f6ac88>"
      ]
     },
     "execution_count": 82,
     "metadata": {},
     "output_type": "execute_result"
    },
    {
     "data": {
      "image/png": "[encoded data removed]",
      "text/plain": [
       "<matplotlib.figure.Figure at 0x2be63f211d0>"
      ]
     },
     "metadata": {},
     "output_type": "display_data"
    }
   ],
   "source": [
    "plt.scatter(np.arange(15),simsP[:,1])"
   ]
  },
  {
   "cell_type": "code",
   "execution_count": null,
   "metadata": {},
   "outputs": [],
   "source": []
  }
 ],
 "metadata": {
  "kernelspec": {
   "display_name": "Python 3",
   "language": "python",
   "name": "python3"
  },
  "language_info": {
   "codemirror_mode": {
    "name": "ipython",
    "version": 3
   },
   "file_extension": ".py",
   "mimetype": "text/x-python",
   "name": "python",
   "nbconvert_exporter": "python",
   "pygments_lexer": "ipython3",
   "version": "3.6.4"
  }
 },
 "nbformat": 4,
 "nbformat_minor": 2
}
